{
 "cells": [
  {
   "cell_type": "code",
   "execution_count": 1,
   "metadata": {},
   "outputs": [],
   "source": [
    "import pandas as pd\r\n",
    "import requests\r\n",
    "import io\r\n",
    "import numpy as np\r\n",
    "import pickle\r\n",
    "import warnings\r\n",
    "\r\n",
    "warnings.filterwarnings(\"ignore\")\r\n",
    "\r\n",
    "# Downloading the csv file from your GitHub account\r\n",
    "\r\n",
    "\r\n",
    "Sal_info = 'https://raw.githubusercontent.com/ongalajacob/Javic_ML/main/2021_data/javicjun_schms_table_sal_basicsalary.csv'\r\n",
    "Sal_Montly = 'https://raw.githubusercontent.com/ongalajacob/Javic_ML/main/2021_data/javicjun_schms_table_sal_monthly.csv'\r\n",
    "job_description = 'https://raw.githubusercontent.com/ongalajacob/Javic_ML/main/2021_data/javicjun_schms_table_job_description.csv'\r\n",
    "employees = 'https://raw.githubusercontent.com/ongalajacob/Javic_ML/main/2021_data/javicjun_schms_table_employees.csv'\r\n",
    "\r\n",
    "\r\n",
    "Sal_info_df = pd.read_csv(Sal_info)\r\n",
    "Sal_Montly_df = pd.read_csv(Sal_Montly,dtype={'Month' : 'category'})\r\n",
    "job_description_df = pd.read_csv(job_description)\r\n",
    "employees_df = pd.read_csv(employees,dtype={'National_ID' : 'category'})\r\n",
    "\r\n"
   ]
  },
  {
   "cell_type": "code",
   "execution_count": 3,
   "metadata": {},
   "outputs": [
    {
     "data": {
      "text/html": "<div>\n<style scoped>\n    .dataframe tbody tr th:only-of-type {\n        vertical-align: middle;\n    }\n\n    .dataframe tbody tr th {\n        vertical-align: top;\n    }\n\n    .dataframe thead th {\n        text-align: right;\n    }\n</style>\n<table border=\"1\" class=\"dataframe\">\n  <thead>\n    <tr style=\"text-align: right;\">\n      <th></th>\n      <th>id</th>\n      <th>Month</th>\n      <th>SalaryID</th>\n      <th>Responsibility</th>\n      <th>Overtime</th>\n      <th>Special</th>\n      <th>OtherAllow</th>\n      <th>OtherAllowaAmnt</th>\n      <th>NoOfDaysAbsent</th>\n      <th>SalAdvance</th>\n      <th>OtherDeductions</th>\n      <th>OtherDecAmount</th>\n    </tr>\n  </thead>\n  <tbody>\n    <tr>\n      <th>0</th>\n      <td>1</td>\n      <td>Oct</td>\n      <td>1</td>\n      <td>0</td>\n      <td>0</td>\n      <td>0</td>\n      <td>XXXX</td>\n      <td>0</td>\n      <td>12</td>\n      <td>0</td>\n      <td>XXXX</td>\n      <td>0</td>\n    </tr>\n    <tr>\n      <th>1</th>\n      <td>2</td>\n      <td>Oct</td>\n      <td>2</td>\n      <td>0</td>\n      <td>0</td>\n      <td>0</td>\n      <td>XXXX</td>\n      <td>0</td>\n      <td>12</td>\n      <td>0</td>\n      <td>XXXX</td>\n      <td>0</td>\n    </tr>\n    <tr>\n      <th>2</th>\n      <td>3</td>\n      <td>Oct</td>\n      <td>3</td>\n      <td>0</td>\n      <td>0</td>\n      <td>0</td>\n      <td>XXXX</td>\n      <td>0</td>\n      <td>12</td>\n      <td>0</td>\n      <td>XXXX</td>\n      <td>0</td>\n    </tr>\n    <tr>\n      <th>3</th>\n      <td>7</td>\n      <td>Oct</td>\n      <td>4</td>\n      <td>500</td>\n      <td>0</td>\n      <td>0</td>\n      <td>XXXX</td>\n      <td>0</td>\n      <td>12</td>\n      <td>0</td>\n      <td>XXXX</td>\n      <td>0</td>\n    </tr>\n    <tr>\n      <th>4</th>\n      <td>8</td>\n      <td>Oct</td>\n      <td>10</td>\n      <td>0</td>\n      <td>0</td>\n      <td>0</td>\n      <td>XXXX</td>\n      <td>0</td>\n      <td>12</td>\n      <td>0</td>\n      <td>XXXX</td>\n      <td>0</td>\n    </tr>\n    <tr>\n      <th>...</th>\n      <td>...</td>\n      <td>...</td>\n      <td>...</td>\n      <td>...</td>\n      <td>...</td>\n      <td>...</td>\n      <td>...</td>\n      <td>...</td>\n      <td>...</td>\n      <td>...</td>\n      <td>...</td>\n      <td>...</td>\n    </tr>\n    <tr>\n      <th>104</th>\n      <td>114</td>\n      <td>May</td>\n      <td>36</td>\n      <td>0</td>\n      <td>0</td>\n      <td>0</td>\n      <td>XXXX</td>\n      <td>0</td>\n      <td>0</td>\n      <td>0</td>\n      <td>XXXX</td>\n      <td>0</td>\n    </tr>\n    <tr>\n      <th>105</th>\n      <td>115</td>\n      <td>May</td>\n      <td>12</td>\n      <td>2000</td>\n      <td>0</td>\n      <td>3000</td>\n      <td>XXXX</td>\n      <td>0</td>\n      <td>0</td>\n      <td>0</td>\n      <td>XXXX</td>\n      <td>0</td>\n    </tr>\n    <tr>\n      <th>106</th>\n      <td>116</td>\n      <td>May</td>\n      <td>26</td>\n      <td>500</td>\n      <td>0</td>\n      <td>0</td>\n      <td>XXXX</td>\n      <td>0</td>\n      <td>0</td>\n      <td>0</td>\n      <td>XXXX</td>\n      <td>0</td>\n    </tr>\n    <tr>\n      <th>107</th>\n      <td>117</td>\n      <td>May</td>\n      <td>38</td>\n      <td>0</td>\n      <td>0</td>\n      <td>0</td>\n      <td>XXXX</td>\n      <td>0</td>\n      <td>15</td>\n      <td>0</td>\n      <td>XXXX</td>\n      <td>0</td>\n    </tr>\n    <tr>\n      <th>108</th>\n      <td>118</td>\n      <td>May</td>\n      <td>37</td>\n      <td>0</td>\n      <td>0</td>\n      <td>0</td>\n      <td>XXXX</td>\n      <td>0</td>\n      <td>10</td>\n      <td>0</td>\n      <td>XXXX</td>\n      <td>0</td>\n    </tr>\n  </tbody>\n</table>\n<p>109 rows × 12 columns</p>\n</div>",
      "text/plain": "      id Month  SalaryID  Responsibility  Overtime  Special OtherAllow  \\\n0      1   Oct         1               0         0        0       XXXX   \n1      2   Oct         2               0         0        0       XXXX   \n2      3   Oct         3               0         0        0       XXXX   \n3      7   Oct         4             500         0        0       XXXX   \n4      8   Oct        10               0         0        0       XXXX   \n..   ...   ...       ...             ...       ...      ...        ...   \n104  114   May        36               0         0        0       XXXX   \n105  115   May        12            2000         0     3000       XXXX   \n106  116   May        26             500         0        0       XXXX   \n107  117   May        38               0         0        0       XXXX   \n108  118   May        37               0         0        0       XXXX   \n\n     OtherAllowaAmnt  NoOfDaysAbsent  SalAdvance OtherDeductions  \\\n0                  0              12           0            XXXX   \n1                  0              12           0            XXXX   \n2                  0              12           0            XXXX   \n3                  0              12           0            XXXX   \n4                  0              12           0            XXXX   \n..               ...             ...         ...             ...   \n104                0               0           0            XXXX   \n105                0               0           0            XXXX   \n106                0               0           0            XXXX   \n107                0              15           0            XXXX   \n108                0              10           0            XXXX   \n\n     OtherDecAmount  \n0                 0  \n1                 0  \n2                 0  \n3                 0  \n4                 0  \n..              ...  \n104               0  \n105               0  \n106               0  \n107               0  \n108               0  \n\n[109 rows x 12 columns]"
     },
     "execution_count": 3,
     "metadata": {},
     "output_type": "execute_result"
    }
   ],
   "source": [
    "Sal_Montly_df"
   ]
  },
  {
   "cell_type": "code",
   "execution_count": 154,
   "metadata": {},
   "outputs": [],
   "source": [
    "Register = pd.merge(left=classregister_df, right=session_df, how='left', left_on='Session', right_on='id')\r\n",
    "Register.drop([\"id_y\",\"Session\"], axis=1, inplace=True)\r\n",
    "Register.rename(columns = {'id_x':'id', }, inplace = True)\r\n",
    "\r\n",
    "Register = pd.merge(left=Register, right=stud_df, how='left', left_on='student', right_on='ID')\r\n",
    "Register.drop(['ID','Mother', 'Father', 'Guadian',\r\n",
    "       'Class_Admitted', 'DOA', 'address',\r\n",
    "        'DateExit',\"student\",'Startdate','Enddate','ClassTeacher'], axis=1, inplace=True)\r\n",
    "Register.rename(columns = {'sex_x':'sex_teacher','sex_y':'sex_stud' ,'name':'name_stud' ,'Class_grd':'grade'  }, inplace = True)\r\n",
    "\r\n",
    "Register=pd.merge(left=Register, right=invoice_df, how='left', left_on='id', right_on='ClassRegisterID')\r\n",
    "Register.drop([\"id_y\"], axis=1, inplace=True)\r\n",
    "Register.rename(columns = {'id_x':'id', }, inplace = True)\r\n",
    "Register_df = Register.rename(columns=str.lower)\r\n",
    "Register_df['tot_invoice']=Register_df['uniform']+Register_df['uniform_no']+(Register_df['transport']*Register_df['transport_months'])+ \\\r\n",
    "     (Register_df['lunch']*Register_df['lunch_months'])+Register_df['otherlevyindv']+Register_df['tutionfee']+Register_df['examfee']+ \\\r\n",
    "         Register_df['booklevy'] +Register_df['activityfee']+Register_df['otherlevies']\r\n",
    "Register_df= Register_df[['id', 'year', 'term', 'grade', \r\n",
    "       'name_stud', 'adm', 'dob', 'sex', 'phone1', 'phone2', 'phone3', 'enrolstatus', 'bal_bf', 'tot_invoice']] \r\n",
    "Register_df[\"grade\"].replace({\"Baby1\":'Baby','Class5':'Grade5',}, inplace=True)\r\n",
    "Register_df['grade'] = pd.Categorical(Register_df['grade'], ['Baby', 'PP1', 'PP2','Grade1',  'Grade2', 'Grade3', 'Grade4', 'Grade5'])     \r\n",
    "\r\n",
    "\r\n",
    "fee_df[['Admission', 'Tuition',\r\n",
    "       'Transport', 'Uniform', 'Lunch', 'Exams', 'BookLvy', 'Activity',\r\n",
    "       'OtheLvy']] = fee_df[['Admission', 'Tuition',\r\n",
    "       'Transport', 'Uniform', 'Lunch', 'Exams', 'BookLvy', 'Activity',\r\n",
    "       'OtheLvy']].fillna(0)\r\n",
    "fee_df[\"total_paid\"] =fee_df[\"Admission\"] +fee_df[\"Tuition\"] +fee_df[\"Transport\"] +fee_df[\"Uniform\"] \\\r\n",
    "       +fee_df[\"Lunch\"] +fee_df[\"Exams\"] +fee_df[\"BookLvy\"] +fee_df[\"Activity\"] +fee_df[\"OtheLvy\"] \r\n",
    "fee_df['id']=fee_df['id'].astype(object)\r\n",
    "fee_df['ReceiptNo']=fee_df['ReceiptNo'].astype(object)\r\n",
    "#fee_df['DOP1']=pd.to_datetime(fee_df['DOP'] ,format = '%Y-%m-%d') \r\n",
    "fee_df['DOP']=pd.to_datetime(fee_df['DOP']).dt.strftime('%Y-%m-%d')\r\n",
    "fees_df=pd.merge(left=fee_df, right=Register_df, how='left', left_on='ClassRegisterID', right_on='id')\r\n",
    "fees_df = fees_df.rename(columns=str.lower)\r\n",
    "fees_df.drop([\"id_y\",'classregisterid'], axis=1, inplace=True)\r\n",
    "fees_df.rename(columns = {'id_x':'id', }, inplace = True)\r\n",
    "fees_df=fees_df[['id', 'receiptno', 'dop', 'year', 'term', 'grade','adm','name_stud', 'enrolstatus', 'phone1', 'phone2', 'phone3', 'admission', 'tuition', 'transport',\r\n",
    "      'uniform', 'lunch', 'exams', 'booklvy', 'activity', 'othelvy',  'total_paid']]\r\n",
    "\r\n",
    "\r\n",
    "fee_df1=fee_df.groupby([\"ClassRegisterID\"])[\"total_paid\"].sum().reset_index(name='Total_collection')\r\n",
    "fees_bal_df=pd.merge(left=fee_df1, right=Register_df, how='outer', left_on='ClassRegisterID', right_on='id')\r\n",
    "fees_bal_df.Total_collection=fees_bal_df.Total_collection.fillna(0)\r\n",
    "fees_bal_df[\"bal_cf\"] =fees_bal_df[\"tot_invoice\"] - fees_bal_df[\"Total_collection\"] \r\n",
    "fees_bal_df=fees_bal_df[['id','year', 'term','grade',  'adm','name_stud','enrolstatus',  'bal_bf', 'tot_invoice', 'Total_collection','bal_cf' , 'phone1', 'phone2', 'phone3']]\r\n",
    "fees_bal_df = fees_bal_df.rename(columns=str.lower)\r\n",
    "\r\n",
    "\r\n",
    "exam_df=pd.merge(left=exams_df, right=Register_df, how='left', left_on='ClassRegisterID', right_on='id')\r\n",
    "exam_df.drop([\"id_y\",'ClassRegisterID'], axis=1, inplace=True)\r\n",
    "exam_df.rename(columns = {'id_x':'id', }, inplace = True)\r\n",
    "exam_df=exam_df[['id', 'ExamType', 'year', 'term', 'grade','adm',   'name_stud','enrolstatus',  'Maths', 'EngLan', 'EngComp',\r\n",
    "       'KisLug', 'KisIns', 'Social', 'Creative', 'CRE', 'Science', 'HmScie','Agric', 'Music', 'PE']]\r\n",
    "exam_df= exam_df.rename(columns=str.lower)\r\n",
    "subjects=['maths', 'englan', 'engcomp', 'kislug', 'kisins', 'social', 'creative',\r\n",
    "       'cre', 'science', 'hmscie', 'agric', 'music', 'pe']\r\n",
    "exam_df['Tot_marks'] = exam_df[subjects].sum(numeric_only=True, axis=1)\r\n",
    "exam_df=exam_df.dropna()\r\n",
    "exam_df['year'] = exam_df.year.astype(int) \r\n",
    "exam_df['adm'] = exam_df.adm.astype(int)  \r\n",
    "exam_df=exam_df[exam_df.enrolstatus =='In_Session']\r\n"
   ]
  },
  {
   "cell_type": "code",
   "execution_count": 148,
   "metadata": {},
   "outputs": [
    {
     "data": {
      "text/html": "<div>\n<style scoped>\n    .dataframe tbody tr th:only-of-type {\n        vertical-align: middle;\n    }\n\n    .dataframe tbody tr th {\n        vertical-align: top;\n    }\n\n    .dataframe thead th {\n        text-align: right;\n    }\n</style>\n<table border=\"1\" class=\"dataframe\">\n  <thead>\n    <tr style=\"text-align: right;\">\n      <th></th>\n      <th>ADM</th>\n      <th>PHONE1</th>\n      <th>PHONE2</th>\n      <th>PHONE3</th>\n    </tr>\n  </thead>\n  <tbody>\n    <tr>\n      <th>0</th>\n      <td>1</td>\n      <td>0710945685</td>\n      <td>0710332465</td>\n      <td>0733332465</td>\n    </tr>\n    <tr>\n      <th>1</th>\n      <td>2</td>\n      <td>706701795</td>\n      <td>705696900</td>\n      <td>XXXXX</td>\n    </tr>\n    <tr>\n      <th>2</th>\n      <td>3</td>\n      <td>0706195829</td>\n      <td>0727201459</td>\n      <td>XXXXX</td>\n    </tr>\n    <tr>\n      <th>3</th>\n      <td>4</td>\n      <td>706195829</td>\n      <td>727201459</td>\n      <td>XXXXX</td>\n    </tr>\n    <tr>\n      <th>4</th>\n      <td>5</td>\n      <td>706281363</td>\n      <td>XXXXX</td>\n      <td>XXXXX</td>\n    </tr>\n    <tr>\n      <th>...</th>\n      <td>...</td>\n      <td>...</td>\n      <td>...</td>\n      <td>...</td>\n    </tr>\n    <tr>\n      <th>439</th>\n      <td>441</td>\n      <td>0723588617</td>\n      <td>0736138889</td>\n      <td>XXXXX.</td>\n    </tr>\n    <tr>\n      <th>440</th>\n      <td>442</td>\n      <td>0705412170</td>\n      <td>XXXXX</td>\n      <td>XXXXX.</td>\n    </tr>\n    <tr>\n      <th>441</th>\n      <td>443</td>\n      <td>0717506310</td>\n      <td>0715544448</td>\n      <td>XXXXX.</td>\n    </tr>\n    <tr>\n      <th>442</th>\n      <td>444</td>\n      <td>0740816989</td>\n      <td>0724720009</td>\n      <td>XXXXX.</td>\n    </tr>\n    <tr>\n      <th>443</th>\n      <td>445</td>\n      <td>0710768467</td>\n      <td>0724648513</td>\n      <td>XXXXX</td>\n    </tr>\n  </tbody>\n</table>\n<p>444 rows × 4 columns</p>\n</div>",
      "text/plain": "     ADM      PHONE1      PHONE2      PHONE3\n0      1  0710945685  0710332465  0733332465\n1      2   706701795   705696900       XXXXX\n2      3  0706195829  0727201459       XXXXX\n3      4   706195829   727201459       XXXXX\n4      5   706281363       XXXXX       XXXXX\n..   ...         ...         ...         ...\n439  441  0723588617  0736138889      XXXXX.\n440  442  0705412170       XXXXX      XXXXX.\n441  443  0717506310  0715544448      XXXXX.\n442  444  0740816989  0724720009      XXXXX.\n443  445  0710768467  0724648513       XXXXX\n\n[444 rows x 4 columns]"
     },
     "execution_count": 148,
     "metadata": {},
     "output_type": "execute_result"
    }
   ],
   "source": [
    "stud_df[['ADM','PHONE1', 'PHONE2', 'PHONE3']]"
   ]
  },
  {
   "cell_type": "code",
   "execution_count": 155,
   "metadata": {},
   "outputs": [
    {
     "data": {
      "text/html": "<div>\n<style scoped>\n    .dataframe tbody tr th:only-of-type {\n        vertical-align: middle;\n    }\n\n    .dataframe tbody tr th {\n        vertical-align: top;\n    }\n\n    .dataframe thead th {\n        text-align: right;\n    }\n</style>\n<table border=\"1\" class=\"dataframe\">\n  <thead>\n    <tr style=\"text-align: right;\">\n      <th></th>\n      <th>adm</th>\n      <th>name_stud</th>\n      <th>maths</th>\n      <th>englan</th>\n      <th>engcomp</th>\n      <th>kislug</th>\n      <th>kisins</th>\n      <th>social</th>\n      <th>creative</th>\n      <th>cre</th>\n      <th>science</th>\n      <th>hmscie</th>\n      <th>agric</th>\n      <th>music</th>\n      <th>pe</th>\n      <th>tot_marks</th>\n      <th>adm</th>\n      <th>phone1</th>\n      <th>phone2</th>\n      <th>phone3</th>\n    </tr>\n  </thead>\n  <tbody>\n    <tr>\n      <th>0</th>\n      <td>153</td>\n      <td>Shalquine Atieno Auka</td>\n      <td>91</td>\n      <td>98</td>\n      <td>0</td>\n      <td>89</td>\n      <td>0</td>\n      <td>50</td>\n      <td>50</td>\n      <td>50</td>\n      <td>50</td>\n      <td>0</td>\n      <td>0</td>\n      <td>0</td>\n      <td>0</td>\n      <td>478</td>\n      <td>153</td>\n      <td>723400362</td>\n      <td>722955104</td>\n      <td>NaN</td>\n    </tr>\n    <tr>\n      <th>1</th>\n      <td>435</td>\n      <td>June Ochieng Ooko</td>\n      <td>92</td>\n      <td>62</td>\n      <td>0</td>\n      <td>40</td>\n      <td>0</td>\n      <td>58</td>\n      <td>54</td>\n      <td>80</td>\n      <td>87</td>\n      <td>0</td>\n      <td>0</td>\n      <td>0</td>\n      <td>0</td>\n      <td>473</td>\n      <td>435</td>\n      <td>0715457662</td>\n      <td>0718344243</td>\n      <td>XXXXX.</td>\n    </tr>\n    <tr>\n      <th>2</th>\n      <td>262</td>\n      <td>Victoria Chavuremu Muyesu</td>\n      <td>85</td>\n      <td>93</td>\n      <td>0</td>\n      <td>85</td>\n      <td>0</td>\n      <td>50</td>\n      <td>42</td>\n      <td>50</td>\n      <td>50</td>\n      <td>0</td>\n      <td>0</td>\n      <td>0</td>\n      <td>0</td>\n      <td>457</td>\n      <td>262</td>\n      <td>717506310</td>\n      <td>721705293</td>\n      <td>NaN</td>\n    </tr>\n    <tr>\n      <th>3</th>\n      <td>315</td>\n      <td>Joel Imani Odhiambo</td>\n      <td>88</td>\n      <td>92</td>\n      <td>0</td>\n      <td>85</td>\n      <td>0</td>\n      <td>46</td>\n      <td>42</td>\n      <td>50</td>\n      <td>50</td>\n      <td>0</td>\n      <td>0</td>\n      <td>0</td>\n      <td>0</td>\n      <td>453</td>\n      <td>315</td>\n      <td>729755690</td>\n      <td>728843673</td>\n      <td>NaN</td>\n    </tr>\n    <tr>\n      <th>4</th>\n      <td>225</td>\n      <td>Hillary Ignatius Odhiambo</td>\n      <td>82</td>\n      <td>92</td>\n      <td>0</td>\n      <td>79</td>\n      <td>0</td>\n      <td>50</td>\n      <td>50</td>\n      <td>50</td>\n      <td>50</td>\n      <td>0</td>\n      <td>0</td>\n      <td>0</td>\n      <td>0</td>\n      <td>453</td>\n      <td>225</td>\n      <td>720826441</td>\n      <td>NaN</td>\n      <td>NaN</td>\n    </tr>\n    <tr>\n      <th>5</th>\n      <td>227</td>\n      <td>Randy Martins Jombo</td>\n      <td>86</td>\n      <td>91</td>\n      <td>0</td>\n      <td>86</td>\n      <td>0</td>\n      <td>41</td>\n      <td>46</td>\n      <td>50</td>\n      <td>46</td>\n      <td>0</td>\n      <td>0</td>\n      <td>0</td>\n      <td>0</td>\n      <td>448</td>\n      <td>227</td>\n      <td>705662622</td>\n      <td>703439762</td>\n      <td>NaN</td>\n    </tr>\n    <tr>\n      <th>6</th>\n      <td>411</td>\n      <td>Wicofred Wilkince Odote</td>\n      <td>88</td>\n      <td>94</td>\n      <td>0</td>\n      <td>82</td>\n      <td>0</td>\n      <td>50</td>\n      <td>34</td>\n      <td>50</td>\n      <td>43</td>\n      <td>0</td>\n      <td>0</td>\n      <td>0</td>\n      <td>0</td>\n      <td>442</td>\n      <td>411</td>\n      <td>0724987637</td>\n      <td>0725121744</td>\n      <td>XXXXX.</td>\n    </tr>\n    <tr>\n      <th>7</th>\n      <td>290</td>\n      <td>Bridgit Rebbeca Okoth</td>\n      <td>81</td>\n      <td>90</td>\n      <td>0</td>\n      <td>82</td>\n      <td>0</td>\n      <td>50</td>\n      <td>46</td>\n      <td>45</td>\n      <td>43</td>\n      <td>0</td>\n      <td>0</td>\n      <td>0</td>\n      <td>0</td>\n      <td>438</td>\n      <td>290</td>\n      <td>706277313</td>\n      <td>737938061</td>\n      <td>NaN</td>\n    </tr>\n    <tr>\n      <th>8</th>\n      <td>247</td>\n      <td>Keila Babra Jowi</td>\n      <td>72</td>\n      <td>89</td>\n      <td>0</td>\n      <td>80</td>\n      <td>0</td>\n      <td>50</td>\n      <td>46</td>\n      <td>50</td>\n      <td>50</td>\n      <td>0</td>\n      <td>0</td>\n      <td>0</td>\n      <td>0</td>\n      <td>437</td>\n      <td>247</td>\n      <td>707118306</td>\n      <td>NaN</td>\n      <td>NaN</td>\n    </tr>\n    <tr>\n      <th>9</th>\n      <td>23</td>\n      <td>Victoria Gweth Abira</td>\n      <td>81</td>\n      <td>93</td>\n      <td>0</td>\n      <td>82</td>\n      <td>0</td>\n      <td>50</td>\n      <td>38</td>\n      <td>45</td>\n      <td>43</td>\n      <td>0</td>\n      <td>0</td>\n      <td>0</td>\n      <td>0</td>\n      <td>433</td>\n      <td>23</td>\n      <td>711130433</td>\n      <td>736454815</td>\n      <td>727323374</td>\n    </tr>\n    <tr>\n      <th>10</th>\n      <td>72</td>\n      <td>Edgar Otieno Olal</td>\n      <td>83</td>\n      <td>95</td>\n      <td>0</td>\n      <td>85</td>\n      <td>0</td>\n      <td>50</td>\n      <td>38</td>\n      <td>45</td>\n      <td>33</td>\n      <td>0</td>\n      <td>0</td>\n      <td>0</td>\n      <td>0</td>\n      <td>431</td>\n      <td>72</td>\n      <td>712436118</td>\n      <td>704284859</td>\n      <td>NaN</td>\n    </tr>\n    <tr>\n      <th>11</th>\n      <td>1</td>\n      <td>Michael Gift Otieno</td>\n      <td>85</td>\n      <td>90</td>\n      <td>0</td>\n      <td>78</td>\n      <td>0</td>\n      <td>41</td>\n      <td>38</td>\n      <td>50</td>\n      <td>43</td>\n      <td>0</td>\n      <td>0</td>\n      <td>0</td>\n      <td>0</td>\n      <td>428</td>\n      <td>1</td>\n      <td>0710945685</td>\n      <td>0710332465</td>\n      <td>0733332465</td>\n    </tr>\n    <tr>\n      <th>12</th>\n      <td>412</td>\n      <td>Arshley Barca Odote</td>\n      <td>90</td>\n      <td>93</td>\n      <td>0</td>\n      <td>76</td>\n      <td>0</td>\n      <td>46</td>\n      <td>31</td>\n      <td>45</td>\n      <td>43</td>\n      <td>0</td>\n      <td>0</td>\n      <td>0</td>\n      <td>0</td>\n      <td>425</td>\n      <td>412</td>\n      <td>0724987637</td>\n      <td>0725121744</td>\n      <td>XXXXX.</td>\n    </tr>\n    <tr>\n      <th>13</th>\n      <td>144</td>\n      <td>Sylvester Rao Ochieng'</td>\n      <td>72</td>\n      <td>93</td>\n      <td>0</td>\n      <td>76</td>\n      <td>0</td>\n      <td>50</td>\n      <td>42</td>\n      <td>45</td>\n      <td>43</td>\n      <td>0</td>\n      <td>0</td>\n      <td>0</td>\n      <td>0</td>\n      <td>423</td>\n      <td>144</td>\n      <td>713768459</td>\n      <td>721749919</td>\n      <td>NaN</td>\n    </tr>\n    <tr>\n      <th>14</th>\n      <td>188</td>\n      <td>Jasper Savelle Otieno</td>\n      <td>92</td>\n      <td>90</td>\n      <td>0</td>\n      <td>71</td>\n      <td>0</td>\n      <td>41</td>\n      <td>27</td>\n      <td>50</td>\n      <td>43</td>\n      <td>0</td>\n      <td>0</td>\n      <td>0</td>\n      <td>0</td>\n      <td>415</td>\n      <td>188</td>\n      <td>705792501</td>\n      <td>704602402</td>\n      <td>NaN</td>\n    </tr>\n    <tr>\n      <th>15</th>\n      <td>308</td>\n      <td>Sachyl Blessed Oweya</td>\n      <td>74</td>\n      <td>91</td>\n      <td>0</td>\n      <td>76</td>\n      <td>0</td>\n      <td>41</td>\n      <td>38</td>\n      <td>50</td>\n      <td>43</td>\n      <td>0</td>\n      <td>0</td>\n      <td>0</td>\n      <td>0</td>\n      <td>415</td>\n      <td>308</td>\n      <td>720661180</td>\n      <td>716290185</td>\n      <td>NaN</td>\n    </tr>\n    <tr>\n      <th>16</th>\n      <td>7</td>\n      <td>Regan Ochieng Odhiambo</td>\n      <td>64</td>\n      <td>82</td>\n      <td>0</td>\n      <td>66</td>\n      <td>0</td>\n      <td>46</td>\n      <td>50</td>\n      <td>50</td>\n      <td>50</td>\n      <td>0</td>\n      <td>0</td>\n      <td>0</td>\n      <td>0</td>\n      <td>409</td>\n      <td>7</td>\n      <td>718398499</td>\n      <td>723919879</td>\n      <td>XXXXX</td>\n    </tr>\n    <tr>\n      <th>17</th>\n      <td>165</td>\n      <td>Sheryl Atieno Odhiambo</td>\n      <td>73</td>\n      <td>85</td>\n      <td>0</td>\n      <td>77</td>\n      <td>0</td>\n      <td>46</td>\n      <td>42</td>\n      <td>50</td>\n      <td>33</td>\n      <td>0</td>\n      <td>0</td>\n      <td>0</td>\n      <td>0</td>\n      <td>408</td>\n      <td>165</td>\n      <td>711949755</td>\n      <td>NaN</td>\n      <td>NaN</td>\n    </tr>\n    <tr>\n      <th>18</th>\n      <td>15</td>\n      <td>Rosmary Atieno Omondi</td>\n      <td>58</td>\n      <td>88</td>\n      <td>0</td>\n      <td>76</td>\n      <td>0</td>\n      <td>41</td>\n      <td>42</td>\n      <td>50</td>\n      <td>50</td>\n      <td>0</td>\n      <td>0</td>\n      <td>0</td>\n      <td>0</td>\n      <td>407</td>\n      <td>15</td>\n      <td>715671602</td>\n      <td>NaN</td>\n      <td>NaN</td>\n    </tr>\n    <tr>\n      <th>19</th>\n      <td>26</td>\n      <td>Gregory Castor</td>\n      <td>66</td>\n      <td>75</td>\n      <td>0</td>\n      <td>78</td>\n      <td>0</td>\n      <td>41</td>\n      <td>31</td>\n      <td>45</td>\n      <td>40</td>\n      <td>0</td>\n      <td>0</td>\n      <td>0</td>\n      <td>0</td>\n      <td>377</td>\n      <td>26</td>\n      <td>716351660</td>\n      <td>720746028</td>\n      <td>NaN</td>\n    </tr>\n    <tr>\n      <th>20</th>\n      <td>202</td>\n      <td>Alian Vukhame Mwita</td>\n      <td>65</td>\n      <td>73</td>\n      <td>0</td>\n      <td>77</td>\n      <td>0</td>\n      <td>33</td>\n      <td>34</td>\n      <td>45</td>\n      <td>36</td>\n      <td>0</td>\n      <td>0</td>\n      <td>0</td>\n      <td>0</td>\n      <td>365</td>\n      <td>202</td>\n      <td>714700912</td>\n      <td>726788775</td>\n      <td>736788775</td>\n    </tr>\n    <tr>\n      <th>21</th>\n      <td>238</td>\n      <td>Bravin Odhiambo</td>\n      <td>54</td>\n      <td>77</td>\n      <td>0</td>\n      <td>68</td>\n      <td>0</td>\n      <td>29</td>\n      <td>38</td>\n      <td>50</td>\n      <td>43</td>\n      <td>0</td>\n      <td>0</td>\n      <td>0</td>\n      <td>0</td>\n      <td>361</td>\n      <td>238</td>\n      <td>726009746</td>\n      <td>728324733</td>\n      <td>NaN</td>\n    </tr>\n    <tr>\n      <th>22</th>\n      <td>253</td>\n      <td>Elvis Michael Nyagol</td>\n      <td>51</td>\n      <td>73</td>\n      <td>0</td>\n      <td>73</td>\n      <td>0</td>\n      <td>46</td>\n      <td>38</td>\n      <td>50</td>\n      <td>26</td>\n      <td>0</td>\n      <td>0</td>\n      <td>0</td>\n      <td>0</td>\n      <td>358</td>\n      <td>253</td>\n      <td>728088439</td>\n      <td>NaN</td>\n      <td>NaN</td>\n    </tr>\n    <tr>\n      <th>23</th>\n      <td>341</td>\n      <td>Elton Otieno Omondi</td>\n      <td>83</td>\n      <td>69</td>\n      <td>0</td>\n      <td>61</td>\n      <td>0</td>\n      <td>25</td>\n      <td>27</td>\n      <td>45</td>\n      <td>46</td>\n      <td>0</td>\n      <td>0</td>\n      <td>0</td>\n      <td>0</td>\n      <td>357</td>\n      <td>341</td>\n      <td>741866087</td>\n      <td>790632976</td>\n      <td>NaN</td>\n    </tr>\n    <tr>\n      <th>24</th>\n      <td>2</td>\n      <td>Tashy Vivian Mboya</td>\n      <td>76</td>\n      <td>81</td>\n      <td>0</td>\n      <td>65</td>\n      <td>0</td>\n      <td>37</td>\n      <td>23</td>\n      <td>45</td>\n      <td>26</td>\n      <td>0</td>\n      <td>0</td>\n      <td>0</td>\n      <td>0</td>\n      <td>355</td>\n      <td>2</td>\n      <td>706701795</td>\n      <td>705696900</td>\n      <td>XXXXX</td>\n    </tr>\n    <tr>\n      <th>25</th>\n      <td>289</td>\n      <td>Bistine Ramender Okoth</td>\n      <td>61</td>\n      <td>38</td>\n      <td>0</td>\n      <td>38</td>\n      <td>0</td>\n      <td>46</td>\n      <td>38</td>\n      <td>50</td>\n      <td>50</td>\n      <td>0</td>\n      <td>0</td>\n      <td>0</td>\n      <td>0</td>\n      <td>322</td>\n      <td>289</td>\n      <td>706277313</td>\n      <td>737938061</td>\n      <td>NaN</td>\n    </tr>\n    <tr>\n      <th>26</th>\n      <td>271</td>\n      <td>Jef Okech Odiyo</td>\n      <td>50</td>\n      <td>57</td>\n      <td>0</td>\n      <td>66</td>\n      <td>0</td>\n      <td>37</td>\n      <td>27</td>\n      <td>45</td>\n      <td>26</td>\n      <td>0</td>\n      <td>0</td>\n      <td>0</td>\n      <td>0</td>\n      <td>310</td>\n      <td>271</td>\n      <td>700425576</td>\n      <td>705237705</td>\n      <td>NaN</td>\n    </tr>\n    <tr>\n      <th>27</th>\n      <td>377</td>\n      <td>Isaac Omondi Onyango</td>\n      <td>53</td>\n      <td>50</td>\n      <td>0</td>\n      <td>75</td>\n      <td>0</td>\n      <td>16</td>\n      <td>38</td>\n      <td>40</td>\n      <td>36</td>\n      <td>0</td>\n      <td>0</td>\n      <td>0</td>\n      <td>0</td>\n      <td>310</td>\n      <td>377</td>\n      <td>0723682629</td>\n      <td>0721335734</td>\n      <td>XXXXX</td>\n    </tr>\n    <tr>\n      <th>28</th>\n      <td>255</td>\n      <td>Byron John Onyango</td>\n      <td>74</td>\n      <td>39</td>\n      <td>0</td>\n      <td>37</td>\n      <td>0</td>\n      <td>41</td>\n      <td>34</td>\n      <td>50</td>\n      <td>26</td>\n      <td>0</td>\n      <td>0</td>\n      <td>0</td>\n      <td>0</td>\n      <td>302</td>\n      <td>255</td>\n      <td>710602149</td>\n      <td>NaN</td>\n      <td>NaN</td>\n    </tr>\n    <tr>\n      <th>29</th>\n      <td>433</td>\n      <td>Fortune Wisdom Ogola</td>\n      <td>44</td>\n      <td>38</td>\n      <td>0</td>\n      <td>20</td>\n      <td>0</td>\n      <td>33</td>\n      <td>62</td>\n      <td>50</td>\n      <td>47</td>\n      <td>0</td>\n      <td>0</td>\n      <td>0</td>\n      <td>0</td>\n      <td>294</td>\n      <td>433</td>\n      <td>0723578845</td>\n      <td>0711200351</td>\n      <td>XXXXX.</td>\n    </tr>\n    <tr>\n      <th>30</th>\n      <td>110</td>\n      <td>Bonface Amisi Miruka</td>\n      <td>54</td>\n      <td>44</td>\n      <td>0</td>\n      <td>58</td>\n      <td>0</td>\n      <td>29</td>\n      <td>38</td>\n      <td>30</td>\n      <td>26</td>\n      <td>0</td>\n      <td>0</td>\n      <td>0</td>\n      <td>0</td>\n      <td>281</td>\n      <td>110</td>\n      <td>790614089</td>\n      <td>729642925</td>\n      <td>XXXXX</td>\n    </tr>\n    <tr>\n      <th>31</th>\n      <td>11</td>\n      <td>Mishael Michael Ochieng</td>\n      <td>58</td>\n      <td>57</td>\n      <td>0</td>\n      <td>67</td>\n      <td>0</td>\n      <td>21</td>\n      <td>19</td>\n      <td>35</td>\n      <td>23</td>\n      <td>0</td>\n      <td>0</td>\n      <td>0</td>\n      <td>0</td>\n      <td>281</td>\n      <td>11</td>\n      <td>726313148</td>\n      <td>726075896</td>\n      <td>XXXXX</td>\n    </tr>\n    <tr>\n      <th>32</th>\n      <td>183</td>\n      <td>Ryan Sande Ochieng</td>\n      <td>54</td>\n      <td>45</td>\n      <td>0</td>\n      <td>19</td>\n      <td>0</td>\n      <td>21</td>\n      <td>11</td>\n      <td>35</td>\n      <td>33</td>\n      <td>0</td>\n      <td>0</td>\n      <td>0</td>\n      <td>0</td>\n      <td>220</td>\n      <td>183</td>\n      <td>729232741</td>\n      <td>726907801</td>\n      <td>NaN</td>\n    </tr>\n    <tr>\n      <th>33</th>\n      <td>111</td>\n      <td>Kimberly Amilia Juma</td>\n      <td>31</td>\n      <td>37</td>\n      <td>0</td>\n      <td>25</td>\n      <td>0</td>\n      <td>16</td>\n      <td>15</td>\n      <td>30</td>\n      <td>13</td>\n      <td>0</td>\n      <td>0</td>\n      <td>0</td>\n      <td>0</td>\n      <td>170</td>\n      <td>111</td>\n      <td>712813527</td>\n      <td>710990899</td>\n      <td>NaN</td>\n    </tr>\n    <tr>\n      <th>34</th>\n      <td>5</td>\n      <td>Michael Odhiambo Awuor</td>\n      <td>24</td>\n      <td>26</td>\n      <td>0</td>\n      <td>7</td>\n      <td>0</td>\n      <td>16</td>\n      <td>7</td>\n      <td>20</td>\n      <td>13</td>\n      <td>0</td>\n      <td>0</td>\n      <td>0</td>\n      <td>0</td>\n      <td>115</td>\n      <td>5</td>\n      <td>706281363</td>\n      <td>XXXXX</td>\n      <td>XXXXX</td>\n    </tr>\n  </tbody>\n</table>\n</div>",
      "text/plain": "    adm                  name_stud  maths  englan  engcomp  kislug  kisins  \\\n0   153      Shalquine Atieno Auka     91      98        0      89       0   \n1   435          June Ochieng Ooko     92      62        0      40       0   \n2   262  Victoria Chavuremu Muyesu     85      93        0      85       0   \n3   315        Joel Imani Odhiambo     88      92        0      85       0   \n4   225  Hillary Ignatius Odhiambo     82      92        0      79       0   \n5   227        Randy Martins Jombo     86      91        0      86       0   \n6   411    Wicofred Wilkince Odote     88      94        0      82       0   \n7   290      Bridgit Rebbeca Okoth     81      90        0      82       0   \n8   247           Keila Babra Jowi     72      89        0      80       0   \n9    23       Victoria Gweth Abira     81      93        0      82       0   \n10   72          Edgar Otieno Olal     83      95        0      85       0   \n11    1        Michael Gift Otieno     85      90        0      78       0   \n12  412        Arshley Barca Odote     90      93        0      76       0   \n13  144     Sylvester Rao Ochieng'     72      93        0      76       0   \n14  188      Jasper Savelle Otieno     92      90        0      71       0   \n15  308       Sachyl Blessed Oweya     74      91        0      76       0   \n16    7     Regan Ochieng Odhiambo     64      82        0      66       0   \n17  165     Sheryl Atieno Odhiambo     73      85        0      77       0   \n18   15      Rosmary Atieno Omondi     58      88        0      76       0   \n19   26             Gregory Castor     66      75        0      78       0   \n20  202        Alian Vukhame Mwita     65      73        0      77       0   \n21  238            Bravin Odhiambo     54      77        0      68       0   \n22  253       Elvis Michael Nyagol     51      73        0      73       0   \n23  341        Elton Otieno Omondi     83      69        0      61       0   \n24    2         Tashy Vivian Mboya     76      81        0      65       0   \n25  289     Bistine Ramender Okoth     61      38        0      38       0   \n26  271            Jef Okech Odiyo     50      57        0      66       0   \n27  377       Isaac Omondi Onyango     53      50        0      75       0   \n28  255         Byron John Onyango     74      39        0      37       0   \n29  433       Fortune Wisdom Ogola     44      38        0      20       0   \n30  110       Bonface Amisi Miruka     54      44        0      58       0   \n31   11    Mishael Michael Ochieng     58      57        0      67       0   \n32  183         Ryan Sande Ochieng     54      45        0      19       0   \n33  111       Kimberly Amilia Juma     31      37        0      25       0   \n34    5     Michael Odhiambo Awuor     24      26        0       7       0   \n\n    social  creative  cre  science  hmscie  agric  music  pe  tot_marks  adm  \\\n0       50        50   50       50       0      0      0   0        478  153   \n1       58        54   80       87       0      0      0   0        473  435   \n2       50        42   50       50       0      0      0   0        457  262   \n3       46        42   50       50       0      0      0   0        453  315   \n4       50        50   50       50       0      0      0   0        453  225   \n5       41        46   50       46       0      0      0   0        448  227   \n6       50        34   50       43       0      0      0   0        442  411   \n7       50        46   45       43       0      0      0   0        438  290   \n8       50        46   50       50       0      0      0   0        437  247   \n9       50        38   45       43       0      0      0   0        433   23   \n10      50        38   45       33       0      0      0   0        431   72   \n11      41        38   50       43       0      0      0   0        428    1   \n12      46        31   45       43       0      0      0   0        425  412   \n13      50        42   45       43       0      0      0   0        423  144   \n14      41        27   50       43       0      0      0   0        415  188   \n15      41        38   50       43       0      0      0   0        415  308   \n16      46        50   50       50       0      0      0   0        409    7   \n17      46        42   50       33       0      0      0   0        408  165   \n18      41        42   50       50       0      0      0   0        407   15   \n19      41        31   45       40       0      0      0   0        377   26   \n20      33        34   45       36       0      0      0   0        365  202   \n21      29        38   50       43       0      0      0   0        361  238   \n22      46        38   50       26       0      0      0   0        358  253   \n23      25        27   45       46       0      0      0   0        357  341   \n24      37        23   45       26       0      0      0   0        355    2   \n25      46        38   50       50       0      0      0   0        322  289   \n26      37        27   45       26       0      0      0   0        310  271   \n27      16        38   40       36       0      0      0   0        310  377   \n28      41        34   50       26       0      0      0   0        302  255   \n29      33        62   50       47       0      0      0   0        294  433   \n30      29        38   30       26       0      0      0   0        281  110   \n31      21        19   35       23       0      0      0   0        281   11   \n32      21        11   35       33       0      0      0   0        220  183   \n33      16        15   30       13       0      0      0   0        170  111   \n34      16         7   20       13       0      0      0   0        115    5   \n\n        phone1      phone2      phone3  \n0    723400362   722955104         NaN  \n1   0715457662  0718344243      XXXXX.  \n2    717506310   721705293         NaN  \n3    729755690   728843673         NaN  \n4    720826441         NaN         NaN  \n5    705662622   703439762         NaN  \n6   0724987637  0725121744      XXXXX.  \n7    706277313   737938061         NaN  \n8    707118306         NaN         NaN  \n9    711130433   736454815   727323374  \n10   712436118   704284859         NaN  \n11  0710945685  0710332465  0733332465  \n12  0724987637  0725121744      XXXXX.  \n13   713768459   721749919         NaN  \n14   705792501   704602402         NaN  \n15   720661180   716290185         NaN  \n16   718398499   723919879       XXXXX  \n17   711949755         NaN         NaN  \n18   715671602         NaN         NaN  \n19   716351660   720746028         NaN  \n20   714700912   726788775   736788775  \n21   726009746   728324733         NaN  \n22   728088439         NaN         NaN  \n23   741866087   790632976         NaN  \n24   706701795   705696900       XXXXX  \n25   706277313   737938061         NaN  \n26   700425576   705237705         NaN  \n27  0723682629  0721335734       XXXXX  \n28   710602149         NaN         NaN  \n29  0723578845  0711200351      XXXXX.  \n30   790614089   729642925       XXXXX  \n31   726313148   726075896       XXXXX  \n32   729232741   726907801         NaN  \n33   712813527   710990899         NaN  \n34   706281363       XXXXX       XXXXX  "
     },
     "execution_count": 155,
     "metadata": {},
     "output_type": "execute_result"
    }
   ],
   "source": [
    "yr = 2020\r\n",
    "tm = 'Term 2'\r\n",
    "grd = 'Grade2'\r\n",
    "exam_df=exam_df[(exam_df.year==yr) & (exam_df.term ==tm) & (exam_df.grade==grd)]\r\n",
    "exam_df=exam_df.groupby([\"adm\", 'name_stud'])['maths', 'englan', 'engcomp', 'kislug', 'kisins', 'social', 'creative', 'cre', 'science', 'hmscie', 'agric', 'music', 'pe',\r\n",
    "'Tot_marks'].mean().reset_index().sort_values('Tot_marks', ascending = (False))\r\n",
    "exam_df[['maths', 'englan', 'engcomp', 'kislug', 'kisins', 'social', 'creative', 'cre', 'science', 'hmscie', 'agric', 'music', 'pe','Tot_marks']] = exam_df[['maths', 'englan', 'engcomp', 'kislug', 'kisins', 'social', 'creative', 'cre', 'science', 'hmscie', 'agric', 'music', 'pe', 'Tot_marks']].astype(int)\r\n",
    "exam_df=pd.merge(left=exam_df, right=stud_df[['ADM','PHONE1', 'PHONE2', 'PHONE3']], how='left', left_on='adm', right_on='ADM')\r\n",
    "exam_df= exam_df.rename(columns=str.lower)\r\n",
    "exam_df"
   ]
  },
  {
   "cell_type": "code",
   "execution_count": 93,
   "metadata": {},
   "outputs": [
    {
     "data": {
      "text/html": "<div>\n<style scoped>\n    .dataframe tbody tr th:only-of-type {\n        vertical-align: middle;\n    }\n\n    .dataframe tbody tr th {\n        vertical-align: top;\n    }\n\n    .dataframe thead th {\n        text-align: right;\n    }\n</style>\n<table border=\"1\" class=\"dataframe\">\n  <thead>\n    <tr style=\"text-align: right;\">\n      <th></th>\n      <th>Year</th>\n      <th>Term</th>\n      <th>Grade</th>\n      <th>ADM</th>\n      <th>Name</th>\n      <th>pos</th>\n      <th>Mathematics</th>\n      <th>English</th>\n      <th>Kiswahili</th>\n      <th>Hygiene</th>\n      <th>Enviromental</th>\n      <th>CRE</th>\n      <th>Creative</th>\n      <th>Total</th>\n    </tr>\n  </thead>\n  <tbody>\n    <tr>\n      <th>602714</th>\n      <td>2020</td>\n      <td>Term 2</td>\n      <td>Grade2</td>\n      <td>435</td>\n      <td>June Ochieng Ooko</td>\n      <td>1.0</td>\n      <td>92</td>\n      <td>62</td>\n      <td>40</td>\n      <td>58</td>\n      <td>87</td>\n      <td>80</td>\n      <td>54</td>\n      <td>473</td>\n    </tr>\n    <tr>\n      <th>579864</th>\n      <td>2020</td>\n      <td>Term 2</td>\n      <td>Grade2</td>\n      <td>411</td>\n      <td>Wicofred Wilkince Odote</td>\n      <td>2.0</td>\n      <td>88</td>\n      <td>94</td>\n      <td>82</td>\n      <td>50</td>\n      <td>43</td>\n      <td>50</td>\n      <td>34</td>\n      <td>442</td>\n    </tr>\n    <tr>\n      <th>541911</th>\n      <td>2020</td>\n      <td>Term 2</td>\n      <td>Grade2</td>\n      <td>23</td>\n      <td>Victoria Gweth Abira</td>\n      <td>3.0</td>\n      <td>81</td>\n      <td>93</td>\n      <td>82</td>\n      <td>50</td>\n      <td>43</td>\n      <td>45</td>\n      <td>38</td>\n      <td>433</td>\n    </tr>\n    <tr>\n      <th>491040</th>\n      <td>2020</td>\n      <td>Term 2</td>\n      <td>Grade2</td>\n      <td>1</td>\n      <td>Michael Gift Otieno</td>\n      <td>4.0</td>\n      <td>85</td>\n      <td>90</td>\n      <td>78</td>\n      <td>41</td>\n      <td>43</td>\n      <td>50</td>\n      <td>38</td>\n      <td>428</td>\n    </tr>\n    <tr>\n      <th>581304</th>\n      <td>2020</td>\n      <td>Term 2</td>\n      <td>Grade2</td>\n      <td>412</td>\n      <td>Arshley Barca Odote</td>\n      <td>5.0</td>\n      <td>90</td>\n      <td>93</td>\n      <td>76</td>\n      <td>46</td>\n      <td>43</td>\n      <td>45</td>\n      <td>31</td>\n      <td>425</td>\n    </tr>\n    <tr>\n      <th>521853</th>\n      <td>2020</td>\n      <td>Term 2</td>\n      <td>Grade2</td>\n      <td>7</td>\n      <td>Regan Ochieng Odhiambo</td>\n      <td>6.0</td>\n      <td>64</td>\n      <td>82</td>\n      <td>66</td>\n      <td>46</td>\n      <td>50</td>\n      <td>50</td>\n      <td>50</td>\n      <td>409</td>\n    </tr>\n    <tr>\n      <th>552762</th>\n      <td>2020</td>\n      <td>Term 2</td>\n      <td>Grade2</td>\n      <td>202</td>\n      <td>Alian Vukhame Mwita</td>\n      <td>7.0</td>\n      <td>65</td>\n      <td>73</td>\n      <td>77</td>\n      <td>33</td>\n      <td>36</td>\n      <td>45</td>\n      <td>34</td>\n      <td>365</td>\n    </tr>\n    <tr>\n      <th>503668</th>\n      <td>2020</td>\n      <td>Term 2</td>\n      <td>Grade2</td>\n      <td>2</td>\n      <td>Tashy Vivian Mboya</td>\n      <td>8.0</td>\n      <td>76</td>\n      <td>81</td>\n      <td>65</td>\n      <td>37</td>\n      <td>26</td>\n      <td>45</td>\n      <td>23</td>\n      <td>355</td>\n    </tr>\n    <tr>\n      <th>564678</th>\n      <td>2020</td>\n      <td>Term 2</td>\n      <td>Grade2</td>\n      <td>377</td>\n      <td>Isaac Omondi Onyango</td>\n      <td>9.0</td>\n      <td>53</td>\n      <td>50</td>\n      <td>75</td>\n      <td>16</td>\n      <td>36</td>\n      <td>40</td>\n      <td>38</td>\n      <td>310</td>\n    </tr>\n    <tr>\n      <th>591969</th>\n      <td>2020</td>\n      <td>Term 2</td>\n      <td>Grade2</td>\n      <td>433</td>\n      <td>Fortune Wisdom Ogola</td>\n      <td>10.0</td>\n      <td>44</td>\n      <td>38</td>\n      <td>20</td>\n      <td>33</td>\n      <td>47</td>\n      <td>50</td>\n      <td>62</td>\n      <td>294</td>\n    </tr>\n    <tr>\n      <th>545028</th>\n      <td>2020</td>\n      <td>Term 2</td>\n      <td>Grade2</td>\n      <td>110</td>\n      <td>Bonface Amisi Miruka</td>\n      <td>11.0</td>\n      <td>54</td>\n      <td>44</td>\n      <td>58</td>\n      <td>29</td>\n      <td>26</td>\n      <td>30</td>\n      <td>38</td>\n      <td>281</td>\n    </tr>\n    <tr>\n      <th>530558</th>\n      <td>2020</td>\n      <td>Term 2</td>\n      <td>Grade2</td>\n      <td>11</td>\n      <td>Mishael Michael Ochieng</td>\n      <td>11.0</td>\n      <td>58</td>\n      <td>57</td>\n      <td>67</td>\n      <td>21</td>\n      <td>23</td>\n      <td>35</td>\n      <td>19</td>\n      <td>281</td>\n    </tr>\n    <tr>\n      <th>510838</th>\n      <td>2020</td>\n      <td>Term 2</td>\n      <td>Grade2</td>\n      <td>5</td>\n      <td>Michael Odhiambo Awuor</td>\n      <td>13.0</td>\n      <td>24</td>\n      <td>26</td>\n      <td>7</td>\n      <td>16</td>\n      <td>13</td>\n      <td>20</td>\n      <td>7</td>\n      <td>115</td>\n    </tr>\n  </tbody>\n</table>\n</div>",
      "text/plain": "        Year    Term   Grade  ADM                     Name   pos  Mathematics  \\\n602714  2020  Term 2  Grade2  435        June Ochieng Ooko   1.0           92   \n579864  2020  Term 2  Grade2  411  Wicofred Wilkince Odote   2.0           88   \n541911  2020  Term 2  Grade2   23     Victoria Gweth Abira   3.0           81   \n491040  2020  Term 2  Grade2    1      Michael Gift Otieno   4.0           85   \n581304  2020  Term 2  Grade2  412      Arshley Barca Odote   5.0           90   \n521853  2020  Term 2  Grade2    7   Regan Ochieng Odhiambo   6.0           64   \n552762  2020  Term 2  Grade2  202      Alian Vukhame Mwita   7.0           65   \n503668  2020  Term 2  Grade2    2       Tashy Vivian Mboya   8.0           76   \n564678  2020  Term 2  Grade2  377     Isaac Omondi Onyango   9.0           53   \n591969  2020  Term 2  Grade2  433     Fortune Wisdom Ogola  10.0           44   \n545028  2020  Term 2  Grade2  110     Bonface Amisi Miruka  11.0           54   \n530558  2020  Term 2  Grade2   11  Mishael Michael Ochieng  11.0           58   \n510838  2020  Term 2  Grade2    5   Michael Odhiambo Awuor  13.0           24   \n\n        English  Kiswahili  Hygiene  Enviromental  CRE  Creative  Total  \n602714       62         40       58            87   80        54    473  \n579864       94         82       50            43   50        34    442  \n541911       93         82       50            43   45        38    433  \n491040       90         78       41            43   50        38    428  \n581304       93         76       46            43   45        31    425  \n521853       82         66       46            50   50        50    409  \n552762       73         77       33            36   45        34    365  \n503668       81         65       37            26   45        23    355  \n564678       50         75       16            36   40        38    310  \n591969       38         20       33            47   50        62    294  \n545028       44         58       29            26   30        38    281  \n530558       57         67       21            23   35        19    281  \n510838       26          7       16            13   20         7    115  "
     },
     "execution_count": 93,
     "metadata": {},
     "output_type": "execute_result"
    }
   ],
   "source": [
    "exam_df=exam_df.drop(['id','dob', 'sex'], axis=1).dropna()\r\n",
    "exam_df=exam_df[exam_df.enrolstatus =='In_Session']\r\n",
    "yr = 2020\r\n",
    "tm = 'Term 2'\r\n",
    "grd = 'Grade2'\r\n",
    "exam_df=exam_df[(exam_df.year==yr) & (exam_df.term ==tm) & (exam_df.grade==grd)]\r\n",
    "exam_df=exam_df.groupby(['year', 'term', 'grade',\"adm\", 'name_stud','phone1', 'phone2', 'phone3'])['maths', 'englan', 'engcomp', 'kislug', 'kisins', 'social', 'creative', 'cre', 'science', 'hmscie', 'agric', 'music', 'pe',\r\n",
    "'Tot_marks'].mean().reset_index().sort_values('Tot_marks', ascending = (False)).dropna() \r\n",
    "exam_df[['maths', 'englan', 'engcomp', 'kislug', 'kisins', 'social', 'creative', 'cre', 'science', 'hmscie', 'agric', 'music', 'pe','Tot_marks']] = exam_df[['maths', 'englan', 'engcomp', 'kislug', 'kisins', 'social', 'creative', 'cre', 'science', 'hmscie', 'agric', 'music', 'pe', 'Tot_marks']].astype(int)\r\n",
    "        \r\n",
    "if grd in ['Baby', 'PP1', 'PP2']:\r\n",
    "    exam_df['pos'] =exam_df.Tot_marks.rank(ascending=False).apply(np.floor).astype(int)\r\n",
    "    #exam_df=exam_df[((exam_df.phone1==Phone)| (exam_df.phone2==Phone)|(exam_df.phone3==Phone))]\r\n",
    "    exam_df.rename(columns = {'year':'Year', 'term':'Term', 'grade':'Grade','adm':'ADM','name_stud':'Name','maths':'Mathematics', 'englan':'Language', 'kislug':'Kiswahili',  'science':'Enviromental',  'cre':'Religious',  'creative':'Creative',   \r\n",
    "    'Tot_marks':'Total'}, inplace = True)\r\n",
    "    if grd in ['Baby', 'PP1']:\r\n",
    "        exam_df=exam_df[['Year', 'Term', 'Grade','ADM', 'Name', 'pos', 'Mathematics', 'Language', 'Creative', 'Religious', 'Enviromental', 'Total']]\r\n",
    "       # st.dataframe(exam_df.T)       \r\n",
    "    else :\r\n",
    "        exam_df=exam_df[['Year', 'Term', 'Grade','ADM', 'Name', 'pos', 'Mathematics', 'Language', 'Creative', 'Religious', 'Enviromental','Kiswahili', 'Total']]\r\n",
    "   #    st.dataframe(exam_df.T) \r\n",
    "\r\n",
    "if grd in ['Grade1', 'Grade2', 'Grade3']:\r\n",
    "    exam_df['pos'] =exam_df.Tot_marks.rank(ascending=False).apply(np.floor)\r\n",
    "   # exam_df=exam_df[((exam_df.phone1==Phone)| (exam_df.phone2==Phone)|(exam_df.phone3==Phone))]\r\n",
    "\r\n",
    "    exam_df['Kiswahili'] =exam_df['kislug']+exam_df['kisins'];exam_df['English'] =exam_df['englan']+exam_df['engcomp']\r\n",
    "    exam_df.rename(columns = {'year':'Year', 'term':'Term', 'grade':'Grade','adm':'ADM','name_stud':'Name','maths':'Mathematics',  'social':'Hygiene' ,'science':'Enviromental',  'cre':'CRE',  'creative':'Creative',   \r\n",
    "    'Tot_marks':'Total'}, inplace = True)\r\n",
    "    exam_df=exam_df[['Year', 'Term', 'Grade','ADM', 'Name', 'pos', 'Mathematics', 'English','Kiswahili','Hygiene', 'Enviromental','CRE', 'Creative', 'Total']]\r\n",
    "   # st.dataframe(exam_df.T)  \r\n",
    "\r\n",
    "    \r\n",
    "if grd in ['Grade4']:\r\n",
    "    exam_df['pos'] =exam_df.Tot_marks.rank(ascending=False).apply(np.floor).astype(int)\r\n",
    "   # exam_df=exam_df[((exam_df.phone1==Phone)| (exam_df.phone2==Phone)|(exam_df.phone3==Phone))]\r\n",
    "\r\n",
    "    exam_df['Kiswahili'] =exam_df['kislug']+exam_df['kisins'];exam_df['English'] =exam_df['englan']+exam_df['engcomp']\r\n",
    "    exam_df.rename(columns = {'year':'Year', 'term':'Term', 'grade':'Grade','adm':'ADM','name_stud':'Name','maths':'Mathematics',  'social':'S/Studies' ,'science':'Science',  'cre':'CRE',  'creative':'Art&Craft',   \r\n",
    "    'hmscie':'H/Science', 'agric':'Agric', 'music':'Music', 'pe':'PE','Tot_marks':'Total'}, inplace = True)\r\n",
    "    exam_df=exam_df[['Year', 'Term', 'Grade','ADM', 'Name', 'pos', 'Mathematics', 'English','Kiswahili','Science','H/Science','Agric','Art&Craft', 'Music','S/Studies' ,'CRE', 'PE', 'Total']]\r\n",
    "  #  st.dataframe(exam_df.T)     \r\n",
    "\r\n",
    "if grd in ['Grade5']:\r\n",
    "    exam_df['pos'] =exam_df.Tot_marks.rank(ascending=False).apply(np.floor).astype(int)\r\n",
    "    #exam_df=exam_df[((exam_df.phone1==Phone)| (exam_df.phone2==Phone)|(exam_df.phone3==Phone))]\r\n",
    "\r\n",
    "    exam_df['Kiswahili'] =exam_df['kislug']+exam_df['kisins'];exam_df['English'] =exam_df['englan']+exam_df['engcomp']\r\n",
    "    exam_df.rename(columns = {'year':'Year', 'term':'Term', 'grade':'Grade','adm':'ADM','name_stud':'Name','maths':'Mathematics',  'social':'S/Studies' ,'science':'Science','Tot_marks':'Total'}, inplace = True)\r\n",
    "    exam_df=exam_df[['Year', 'Term', 'Grade','ADM', 'Name', 'pos', 'Mathematics', 'English','Kiswahili','Science','S/Studies' , 'Total']]\r\n",
    "  #  st.dataframe(exam_df.T) \r\n",
    "\r\n",
    "exam_df"
   ]
  },
  {
   "cell_type": "code",
   "execution_count": 63,
   "metadata": {},
   "outputs": [],
   "source": [
    "\r\n",
    "#exam_df_termly=exam_df.groupby([ 'year', 'term', 'grade', \"adm\", 'name_stud'])['maths', 'englan', 'engcomp', 'kislug', 'kisins', 'social', 'creative', 'cre', 'science', 'hmscie', 'agric', 'music', 'pe',\r\n",
    "#            'Tot_marks'].mean().reset_index().sort_values('Tot_marks', ascending = (False)).dropna()\r\n",
    "#exam_df_termly[['maths', 'englan', 'engcomp', 'kislug', 'kisins', 'social', 'creative', 'cre', 'science', 'hmscie', 'agric', 'music', 'pe','Tot_marks']] = exam_df_termly[['maths', 'englan', 'engcomp', 'kislug', 'kisins', 'social', 'creative', 'cre', 'science', 'hmscie', 'agric', 'music', 'pe', 'Tot_marks']].astype(int)\r\n",
    "exam_df=exam_df[(exam_df.year==2020)& (exam_df.term =='Term 2') & (exam_df.grade=='Baby')]\r\n",
    "exam_df=exam_df.groupby([\"adm\", 'name_stud'])['maths', 'englan', 'engcomp', 'kislug', 'kisins', 'social', 'creative', 'cre', 'science', 'hmscie', 'agric', 'music', 'pe',\r\n",
    "            'Tot_marks'].mean().reset_index().sort_values('Tot_marks', ascending = (False)) \r\n",
    "exam_df[['maths', 'englan', 'engcomp', 'kislug', 'kisins', 'social', 'creative', 'cre', 'science', 'hmscie', 'agric', 'music', 'pe','Tot_marks']] = exam_df[['maths', 'englan', 'engcomp', 'kislug', 'kisins', 'social', 'creative', 'cre', 'science', 'hmscie', 'agric', 'music', 'pe', 'Tot_marks']].astype(int)\r\n",
    "                    \r\n",
    "            if grd in ['Baby', 'PP1', 'PP2']:\r\n",
    "                exam_df['pos'] =exam_df.Tot_marks.rank(ascending=False).apply(np.floor).astype(int)\r\n",
    "                exam_df.rename(columns = {'adm':'ADM','name_stud':'Name','maths':'Mathematics', 'englan':'Language', 'kislug':'Kiswahili',  'science':'Enviromental',  'cre':'Religious',  'creative':'Creative',   \r\n",
    "                'Tot_marks':'Total'}, inplace = True)\r\n",
    "                if grd in ['Baby', 'PP1']:\r\n",
    "                    exam_df=exam_df[['ADM', 'Name', 'pos', 'Mathematics', 'Language', 'Creative', 'Religious', 'Enviromental', 'Total']]\r\n",
    "                    st.dataframe(exam_df)       \r\n",
    "                else :\r\n",
    "                    exam_df=exam_df[['ADM', 'Name', 'pos', 'Mathematics', 'Language', 'Creative', 'Religious', 'Enviromental','Kiswahili', 'Total']]\r\n",
    "                    st.dataframe(exam_df)                 "
   ]
  },
  {
   "cell_type": "code",
   "execution_count": 13,
   "metadata": {},
   "outputs": [
    {
     "data": {
      "text/plain": "Index(['id', 'examtype', 'year', 'term', 'grade', 'adm', 'name_stud', 'dob',\n       'sex', 'enrolstatus', 'maths', 'englan', 'engcomp', 'kislug', 'kisins',\n       'social', 'creative', 'cre', 'science', 'hmscie', 'agric', 'music',\n       'pe', 'Tot_marks'],\n      dtype='object')"
     },
     "execution_count": 13,
     "metadata": {},
     "output_type": "execute_result"
    }
   ],
   "source": [
    "exam_df.columns"
   ]
  },
  {
   "cell_type": "code",
   "execution_count": 77,
   "metadata": {},
   "outputs": [],
   "source": [
    "\r\n",
    "pos = []\r\n",
    "for TRM in exam_df.term.unique():\r\n",
    "        pos=exam_df_termly[exam_df_termly.term==TRM].Tot_marks.rank(ascending=False).apply(np.floor).astype(int)\r\n",
    "        pos.append(pos)\r\n",
    "        exam_df_termly[\"pos\"] = pos\r\n",
    "                \r\n",
    "\r\n"
   ]
  },
  {
   "cell_type": "code",
   "execution_count": 78,
   "metadata": {},
   "outputs": [
    {
     "data": {
      "text/plain": "array(['Term 2', 'Term 3'], dtype=object)"
     },
     "execution_count": 78,
     "metadata": {},
     "output_type": "execute_result"
    }
   ],
   "source": [
    "exam_df.term.unique()"
   ]
  },
  {
   "cell_type": "code",
   "execution_count": 79,
   "metadata": {},
   "outputs": [
    {
     "data": {
      "text/html": "<div>\n<style scoped>\n    .dataframe tbody tr th:only-of-type {\n        vertical-align: middle;\n    }\n\n    .dataframe tbody tr th {\n        vertical-align: top;\n    }\n\n    .dataframe thead th {\n        text-align: right;\n    }\n</style>\n<table border=\"1\" class=\"dataframe\">\n  <thead>\n    <tr style=\"text-align: right;\">\n      <th></th>\n      <th>year</th>\n      <th>term</th>\n      <th>grade</th>\n      <th>adm</th>\n      <th>name_stud</th>\n      <th>maths</th>\n      <th>englan</th>\n      <th>engcomp</th>\n      <th>kislug</th>\n      <th>kisins</th>\n      <th>social</th>\n      <th>creative</th>\n      <th>cre</th>\n      <th>science</th>\n      <th>hmscie</th>\n      <th>agric</th>\n      <th>music</th>\n      <th>pe</th>\n      <th>Tot_marks</th>\n      <th>pos</th>\n    </tr>\n  </thead>\n  <tbody>\n    <tr>\n      <th>354615</th>\n      <td>2020</td>\n      <td>Term 2</td>\n      <td>Grade4</td>\n      <td>181</td>\n      <td>Ester Precious Magret Liyala</td>\n      <td>84</td>\n      <td>49</td>\n      <td>40</td>\n      <td>44</td>\n      <td>37</td>\n      <td>34</td>\n      <td>48</td>\n      <td>48</td>\n      <td>96</td>\n      <td>44</td>\n      <td>48</td>\n      <td>28</td>\n      <td>92</td>\n      <td>692</td>\n      <td>NaN</td>\n    </tr>\n    <tr>\n      <th>803967</th>\n      <td>2020</td>\n      <td>Term 3</td>\n      <td>Grade4</td>\n      <td>181</td>\n      <td>Ester Precious Magret Liyala</td>\n      <td>76</td>\n      <td>46</td>\n      <td>45</td>\n      <td>41</td>\n      <td>45</td>\n      <td>67</td>\n      <td>40</td>\n      <td>90</td>\n      <td>32</td>\n      <td>28</td>\n      <td>68</td>\n      <td>28</td>\n      <td>80</td>\n      <td>686</td>\n      <td>1.0</td>\n    </tr>\n    <tr>\n      <th>807279</th>\n      <td>2020</td>\n      <td>Term 3</td>\n      <td>Grade4</td>\n      <td>212</td>\n      <td>Dylia Sophy Odhiambo</td>\n      <td>76</td>\n      <td>47</td>\n      <td>35</td>\n      <td>43</td>\n      <td>40</td>\n      <td>68</td>\n      <td>40</td>\n      <td>93</td>\n      <td>33</td>\n      <td>27</td>\n      <td>71</td>\n      <td>28</td>\n      <td>80</td>\n      <td>681</td>\n      <td>2.0</td>\n    </tr>\n    <tr>\n      <th>357927</th>\n      <td>2020</td>\n      <td>Term 2</td>\n      <td>Grade4</td>\n      <td>212</td>\n      <td>Dylia Sophy Odhiambo</td>\n      <td>70</td>\n      <td>49</td>\n      <td>43</td>\n      <td>43</td>\n      <td>37</td>\n      <td>40</td>\n      <td>44</td>\n      <td>48</td>\n      <td>94</td>\n      <td>46</td>\n      <td>39</td>\n      <td>26</td>\n      <td>84</td>\n      <td>663</td>\n      <td>NaN</td>\n    </tr>\n    <tr>\n      <th>791138</th>\n      <td>2020</td>\n      <td>Term 3</td>\n      <td>Grade4</td>\n      <td>57</td>\n      <td>Brigit Judy Owano</td>\n      <td>72</td>\n      <td>41</td>\n      <td>35</td>\n      <td>36</td>\n      <td>40</td>\n      <td>67</td>\n      <td>44</td>\n      <td>87</td>\n      <td>25</td>\n      <td>30</td>\n      <td>65</td>\n      <td>24</td>\n      <td>80</td>\n      <td>646</td>\n      <td>3.0</td>\n    </tr>\n    <tr>\n      <th>...</th>\n      <td>...</td>\n      <td>...</td>\n      <td>...</td>\n      <td>...</td>\n      <td>...</td>\n      <td>...</td>\n      <td>...</td>\n      <td>...</td>\n      <td>...</td>\n      <td>...</td>\n      <td>...</td>\n      <td>...</td>\n      <td>...</td>\n      <td>...</td>\n      <td>...</td>\n      <td>...</td>\n      <td>...</td>\n      <td>...</td>\n      <td>...</td>\n      <td>...</td>\n    </tr>\n    <tr>\n      <th>289217</th>\n      <td>2020</td>\n      <td>Term 2</td>\n      <td>Grade3</td>\n      <td>104</td>\n      <td>Frankline Ochieng' Odhiambo</td>\n      <td>26</td>\n      <td>16</td>\n      <td>5</td>\n      <td>24</td>\n      <td>5</td>\n      <td>13</td>\n      <td>20</td>\n      <td>10</td>\n      <td>10</td>\n      <td>0</td>\n      <td>0</td>\n      <td>0</td>\n      <td>0</td>\n      <td>129</td>\n      <td>NaN</td>\n    </tr>\n    <tr>\n      <th>225301</th>\n      <td>2020</td>\n      <td>Term 2</td>\n      <td>Grade2</td>\n      <td>5</td>\n      <td>Michael Odhiambo Awuor</td>\n      <td>24</td>\n      <td>26</td>\n      <td>0</td>\n      <td>7</td>\n      <td>0</td>\n      <td>16</td>\n      <td>7</td>\n      <td>20</td>\n      <td>13</td>\n      <td>0</td>\n      <td>0</td>\n      <td>0</td>\n      <td>0</td>\n      <td>115</td>\n      <td>NaN</td>\n    </tr>\n    <tr>\n      <th>54712</th>\n      <td>2020</td>\n      <td>Term 2</td>\n      <td>Baby</td>\n      <td>431</td>\n      <td>Sheryl Olive Okello</td>\n      <td>60</td>\n      <td>0</td>\n      <td>0</td>\n      <td>0</td>\n      <td>0</td>\n      <td>0</td>\n      <td>0</td>\n      <td>0</td>\n      <td>0</td>\n      <td>0</td>\n      <td>0</td>\n      <td>0</td>\n      <td>0</td>\n      <td>60</td>\n      <td>NaN</td>\n    </tr>\n    <tr>\n      <th>369962</th>\n      <td>2020</td>\n      <td>Term 2</td>\n      <td>Grade4</td>\n      <td>300</td>\n      <td>Albright Mitchelle Ouma</td>\n      <td>0</td>\n      <td>0</td>\n      <td>0</td>\n      <td>0</td>\n      <td>0</td>\n      <td>0</td>\n      <td>0</td>\n      <td>0</td>\n      <td>0</td>\n      <td>0</td>\n      <td>0</td>\n      <td>0</td>\n      <td>0</td>\n      <td>0</td>\n      <td>NaN</td>\n    </tr>\n    <tr>\n      <th>377280</th>\n      <td>2020</td>\n      <td>Term 2</td>\n      <td>Grade4</td>\n      <td>347</td>\n      <td>Teddy Brian Okoth</td>\n      <td>0</td>\n      <td>0</td>\n      <td>0</td>\n      <td>0</td>\n      <td>0</td>\n      <td>0</td>\n      <td>0</td>\n      <td>0</td>\n      <td>0</td>\n      <td>0</td>\n      <td>0</td>\n      <td>0</td>\n      <td>0</td>\n      <td>0</td>\n      <td>NaN</td>\n    </tr>\n  </tbody>\n</table>\n<p>251 rows × 20 columns</p>\n</div>",
      "text/plain": "        year    term   grade  adm                     name_stud  maths  \\\n354615  2020  Term 2  Grade4  181  Ester Precious Magret Liyala     84   \n803967  2020  Term 3  Grade4  181  Ester Precious Magret Liyala     76   \n807279  2020  Term 3  Grade4  212          Dylia Sophy Odhiambo     76   \n357927  2020  Term 2  Grade4  212          Dylia Sophy Odhiambo     70   \n791138  2020  Term 3  Grade4   57             Brigit Judy Owano     72   \n...      ...     ...     ...  ...                           ...    ...   \n289217  2020  Term 2  Grade3  104   Frankline Ochieng' Odhiambo     26   \n225301  2020  Term 2  Grade2    5        Michael Odhiambo Awuor     24   \n54712   2020  Term 2    Baby  431           Sheryl Olive Okello     60   \n369962  2020  Term 2  Grade4  300       Albright Mitchelle Ouma      0   \n377280  2020  Term 2  Grade4  347             Teddy Brian Okoth      0   \n\n        englan  engcomp  kislug  kisins  social  creative  cre  science  \\\n354615      49       40      44      37      34        48   48       96   \n803967      46       45      41      45      67        40   90       32   \n807279      47       35      43      40      68        40   93       33   \n357927      49       43      43      37      40        44   48       94   \n791138      41       35      36      40      67        44   87       25   \n...        ...      ...     ...     ...     ...       ...  ...      ...   \n289217      16        5      24       5      13        20   10       10   \n225301      26        0       7       0      16         7   20       13   \n54712        0        0       0       0       0         0    0        0   \n369962       0        0       0       0       0         0    0        0   \n377280       0        0       0       0       0         0    0        0   \n\n        hmscie  agric  music  pe  Tot_marks  pos  \n354615      44     48     28  92        692  NaN  \n803967      28     68     28  80        686  1.0  \n807279      27     71     28  80        681  2.0  \n357927      46     39     26  84        663  NaN  \n791138      30     65     24  80        646  3.0  \n...        ...    ...    ...  ..        ...  ...  \n289217       0      0      0   0        129  NaN  \n225301       0      0      0   0        115  NaN  \n54712        0      0      0   0         60  NaN  \n369962       0      0      0   0          0  NaN  \n377280       0      0      0   0          0  NaN  \n\n[251 rows x 20 columns]"
     },
     "execution_count": 79,
     "metadata": {},
     "output_type": "execute_result"
    }
   ],
   "source": [
    "exam_df_termly"
   ]
  },
  {
   "cell_type": "code",
   "execution_count": 68,
   "metadata": {},
   "outputs": [
    {
     "data": {
      "text/plain": "354615      1\n803967      2\n807279      3\n357927      4\n791138      5\n         ... \n289217    247\n225301    248\n54712     249\n369962    250\n377280    250\nName: Tot_marks, Length: 251, dtype: int32"
     },
     "execution_count": 68,
     "metadata": {},
     "output_type": "execute_result"
    }
   ],
   "source": [
    "pos"
   ]
  },
  {
   "cell_type": "code",
   "execution_count": 12,
   "metadata": {},
   "outputs": [
    {
     "data": {
      "text/plain": "array([2020])"
     },
     "execution_count": 12,
     "metadata": {},
     "output_type": "execute_result"
    }
   ],
   "source": [
    "exam_df.year.unique()"
   ]
  },
  {
   "cell_type": "code",
   "execution_count": 6,
   "metadata": {},
   "outputs": [
    {
     "data": {
      "text/html": "<div>\n<style scoped>\n    .dataframe tbody tr th:only-of-type {\n        vertical-align: middle;\n    }\n\n    .dataframe tbody tr th {\n        vertical-align: top;\n    }\n\n    .dataframe thead th {\n        text-align: right;\n    }\n</style>\n<table border=\"1\" class=\"dataframe\">\n  <thead>\n    <tr style=\"text-align: right;\">\n      <th></th>\n      <th>id</th>\n      <th>examtype</th>\n      <th>year</th>\n      <th>term</th>\n      <th>grade</th>\n      <th>adm</th>\n      <th>name_stud</th>\n      <th>dob</th>\n      <th>sex</th>\n      <th>enrolstatus</th>\n      <th>...</th>\n      <th>kisins</th>\n      <th>social</th>\n      <th>creative</th>\n      <th>cre</th>\n      <th>science</th>\n      <th>hmscie</th>\n      <th>agric</th>\n      <th>music</th>\n      <th>pe</th>\n      <th>Tot_marks</th>\n    </tr>\n  </thead>\n  <tbody>\n    <tr>\n      <th>0</th>\n      <td>20</td>\n      <td>Exams</td>\n      <td>2020</td>\n      <td>Term 2</td>\n      <td>Grade4</td>\n      <td>300</td>\n      <td>Albright Mitchelle Ouma</td>\n      <td>2012-02-10</td>\n      <td>Female</td>\n      <td>In_Session</td>\n      <td>...</td>\n      <td>0</td>\n      <td>0</td>\n      <td>0</td>\n      <td>0</td>\n      <td>0</td>\n      <td>0</td>\n      <td>0</td>\n      <td>0</td>\n      <td>0</td>\n      <td>0</td>\n    </tr>\n    <tr>\n      <th>1</th>\n      <td>21</td>\n      <td>Exams</td>\n      <td>2020</td>\n      <td>Term 2</td>\n      <td>Grade4</td>\n      <td>313</td>\n      <td>Bill Otieno Onyango</td>\n      <td>2010-05-15</td>\n      <td>Male</td>\n      <td>In_Session</td>\n      <td>...</td>\n      <td>28</td>\n      <td>26</td>\n      <td>34</td>\n      <td>24</td>\n      <td>98</td>\n      <td>39</td>\n      <td>41</td>\n      <td>20</td>\n      <td>72</td>\n      <td>534</td>\n    </tr>\n    <tr>\n      <th>2</th>\n      <td>22</td>\n      <td>Exams</td>\n      <td>2020</td>\n      <td>Term 2</td>\n      <td>Grade4</td>\n      <td>57</td>\n      <td>Brigit Judy Owano</td>\n      <td>2017-05-22</td>\n      <td>Female</td>\n      <td>In_Session</td>\n      <td>...</td>\n      <td>38</td>\n      <td>31</td>\n      <td>38</td>\n      <td>44</td>\n      <td>88</td>\n      <td>48</td>\n      <td>35</td>\n      <td>20</td>\n      <td>92</td>\n      <td>632</td>\n    </tr>\n    <tr>\n      <th>4</th>\n      <td>24</td>\n      <td>Exams</td>\n      <td>2020</td>\n      <td>Term 2</td>\n      <td>Grade4</td>\n      <td>213</td>\n      <td>Delan Charles Odhiambo</td>\n      <td>2009-11-15</td>\n      <td>Male</td>\n      <td>In_Session</td>\n      <td>...</td>\n      <td>33</td>\n      <td>28</td>\n      <td>28</td>\n      <td>32</td>\n      <td>86</td>\n      <td>42</td>\n      <td>41</td>\n      <td>26</td>\n      <td>60</td>\n      <td>537</td>\n    </tr>\n    <tr>\n      <th>5</th>\n      <td>25</td>\n      <td>Exams</td>\n      <td>2020</td>\n      <td>Term 2</td>\n      <td>Grade4</td>\n      <td>212</td>\n      <td>Dylia Sophy Odhiambo</td>\n      <td>2019-11-14</td>\n      <td>Female</td>\n      <td>In_Session</td>\n      <td>...</td>\n      <td>37</td>\n      <td>40</td>\n      <td>44</td>\n      <td>48</td>\n      <td>94</td>\n      <td>46</td>\n      <td>39</td>\n      <td>26</td>\n      <td>84</td>\n      <td>663</td>\n    </tr>\n    <tr>\n      <th>...</th>\n      <td>...</td>\n      <td>...</td>\n      <td>...</td>\n      <td>...</td>\n      <td>...</td>\n      <td>...</td>\n      <td>...</td>\n      <td>...</td>\n      <td>...</td>\n      <td>...</td>\n      <td>...</td>\n      <td>...</td>\n      <td>...</td>\n      <td>...</td>\n      <td>...</td>\n      <td>...</td>\n      <td>...</td>\n      <td>...</td>\n      <td>...</td>\n      <td>...</td>\n      <td>...</td>\n    </tr>\n    <tr>\n      <th>511</th>\n      <td>551</td>\n      <td>Exams</td>\n      <td>2020</td>\n      <td>Term 2</td>\n      <td>Grade5</td>\n      <td>157</td>\n      <td>Stanley Ochieng' Ochia</td>\n      <td>2009-12-21</td>\n      <td>Male</td>\n      <td>In_Session</td>\n      <td>...</td>\n      <td>19</td>\n      <td>34</td>\n      <td>0</td>\n      <td>0</td>\n      <td>42</td>\n      <td>0</td>\n      <td>0</td>\n      <td>0</td>\n      <td>0</td>\n      <td>155</td>\n    </tr>\n    <tr>\n      <th>512</th>\n      <td>552</td>\n      <td>Exams</td>\n      <td>2020</td>\n      <td>Term 2</td>\n      <td>Grade5</td>\n      <td>132</td>\n      <td>Violet Akinyi Owuor</td>\n      <td>2007-01-02</td>\n      <td>Female</td>\n      <td>In_Session</td>\n      <td>...</td>\n      <td>23</td>\n      <td>38</td>\n      <td>0</td>\n      <td>0</td>\n      <td>34</td>\n      <td>0</td>\n      <td>0</td>\n      <td>0</td>\n      <td>0</td>\n      <td>197</td>\n    </tr>\n    <tr>\n      <th>513</th>\n      <td>553</td>\n      <td>Exams</td>\n      <td>2020</td>\n      <td>Term 2</td>\n      <td>Grade5</td>\n      <td>97</td>\n      <td>Walter Kwata Muliro</td>\n      <td>2009-05-11</td>\n      <td>Male</td>\n      <td>In_Session</td>\n      <td>...</td>\n      <td>40</td>\n      <td>79</td>\n      <td>0</td>\n      <td>0</td>\n      <td>72</td>\n      <td>0</td>\n      <td>0</td>\n      <td>0</td>\n      <td>0</td>\n      <td>355</td>\n    </tr>\n    <tr>\n      <th>514</th>\n      <td>554</td>\n      <td>Exams</td>\n      <td>2020</td>\n      <td>Term 2</td>\n      <td>Grade3</td>\n      <td>338</td>\n      <td>David Otieno Agutu</td>\n      <td>2011-01-29</td>\n      <td>Male</td>\n      <td>In_Session</td>\n      <td>...</td>\n      <td>0</td>\n      <td>87</td>\n      <td>65</td>\n      <td>90</td>\n      <td>80</td>\n      <td>0</td>\n      <td>0</td>\n      <td>0</td>\n      <td>0</td>\n      <td>572</td>\n    </tr>\n    <tr>\n      <th>515</th>\n      <td>555</td>\n      <td>Exams</td>\n      <td>2020</td>\n      <td>Term 2</td>\n      <td>Grade3</td>\n      <td>343</td>\n      <td>Ricky Rolex Otieno</td>\n      <td>2012-08-05</td>\n      <td>Male</td>\n      <td>In_Session</td>\n      <td>...</td>\n      <td>0</td>\n      <td>80</td>\n      <td>75</td>\n      <td>70</td>\n      <td>67</td>\n      <td>0</td>\n      <td>0</td>\n      <td>0</td>\n      <td>0</td>\n      <td>524</td>\n    </tr>\n  </tbody>\n</table>\n<p>448 rows × 24 columns</p>\n</div>",
      "text/plain": "      id examtype  year    term   grade  adm                name_stud  \\\n0     20    Exams  2020  Term 2  Grade4  300  Albright Mitchelle Ouma   \n1     21    Exams  2020  Term 2  Grade4  313      Bill Otieno Onyango   \n2     22    Exams  2020  Term 2  Grade4   57        Brigit Judy Owano   \n4     24    Exams  2020  Term 2  Grade4  213   Delan Charles Odhiambo   \n5     25    Exams  2020  Term 2  Grade4  212     Dylia Sophy Odhiambo   \n..   ...      ...   ...     ...     ...  ...                      ...   \n511  551    Exams  2020  Term 2  Grade5  157   Stanley Ochieng' Ochia   \n512  552    Exams  2020  Term 2  Grade5  132      Violet Akinyi Owuor   \n513  553    Exams  2020  Term 2  Grade5   97      Walter Kwata Muliro   \n514  554    Exams  2020  Term 2  Grade3  338       David Otieno Agutu   \n515  555    Exams  2020  Term 2  Grade3  343       Ricky Rolex Otieno   \n\n            dob     sex enrolstatus  ...  kisins  social  creative  cre  \\\n0    2012-02-10  Female  In_Session  ...       0       0         0    0   \n1    2010-05-15    Male  In_Session  ...      28      26        34   24   \n2    2017-05-22  Female  In_Session  ...      38      31        38   44   \n4    2009-11-15    Male  In_Session  ...      33      28        28   32   \n5    2019-11-14  Female  In_Session  ...      37      40        44   48   \n..          ...     ...         ...  ...     ...     ...       ...  ...   \n511  2009-12-21    Male  In_Session  ...      19      34         0    0   \n512  2007-01-02  Female  In_Session  ...      23      38         0    0   \n513  2009-05-11    Male  In_Session  ...      40      79         0    0   \n514  2011-01-29    Male  In_Session  ...       0      87        65   90   \n515  2012-08-05    Male  In_Session  ...       0      80        75   70   \n\n     science  hmscie  agric  music  pe  Tot_marks  \n0          0       0      0      0   0          0  \n1         98      39     41     20  72        534  \n2         88      48     35     20  92        632  \n4         86      42     41     26  60        537  \n5         94      46     39     26  84        663  \n..       ...     ...    ...    ...  ..        ...  \n511       42       0      0      0   0        155  \n512       34       0      0      0   0        197  \n513       72       0      0      0   0        355  \n514       80       0      0      0   0        572  \n515       67       0      0      0   0        524  \n\n[448 rows x 24 columns]"
     },
     "execution_count": 6,
     "metadata": {},
     "output_type": "execute_result"
    }
   ],
   "source": [
    "exam_df"
   ]
  },
  {
   "cell_type": "code",
   "execution_count": 59,
   "metadata": {},
   "outputs": [
    {
     "data": {
      "text/plain": "Index(['id_x', 'Year', 'Term', 'grade', 'TutionFee', 'ExamFee', 'BookLevy',\n       'ActivityFee', 'OtherLevies', 'name_stud', 'ADM', 'DOB', 'sex',\n       'PHONE1', 'PHONE2', 'PHONE3', 'EnrolStatus', 'ClassRegisterID',\n       'Bal_bf', 'Uniform', 'uniform_no', 'Transport', 'Transport_months',\n       'Lunch', 'Lunch_months', 'OtherLevyIndv'],\n      dtype='object')"
     },
     "execution_count": 59,
     "metadata": {},
     "output_type": "execute_result"
    }
   ],
   "source": [
    "Register.columns"
   ]
  },
  {
   "cell_type": "code",
   "execution_count": null,
   "metadata": {},
   "outputs": [],
   "source": []
  },
  {
   "cell_type": "code",
   "execution_count": 20,
   "metadata": {},
   "outputs": [
    {
     "data": {
      "text/html": "<div>\n<style scoped>\n    .dataframe tbody tr th:only-of-type {\n        vertical-align: middle;\n    }\n\n    .dataframe tbody tr th {\n        vertical-align: top;\n    }\n\n    .dataframe thead th {\n        text-align: right;\n    }\n</style>\n<table border=\"1\" class=\"dataframe\">\n  <thead>\n    <tr style=\"text-align: right;\">\n      <th></th>\n      <th>receiptno</th>\n      <th>dop</th>\n      <th>grade</th>\n      <th>adm</th>\n      <th>name_stud</th>\n      <th>admission</th>\n      <th>tuition</th>\n      <th>transport</th>\n      <th>uniform</th>\n      <th>lunch</th>\n      <th>exams</th>\n      <th>booklvy</th>\n      <th>activity</th>\n      <th>othelvy</th>\n      <th>total_paid</th>\n    </tr>\n  </thead>\n  <tbody>\n    <tr>\n      <th>0</th>\n      <td>6598</td>\n      <td>2020-10-19</td>\n      <td>Grade4</td>\n      <td>54</td>\n      <td>Reinhard Levi Onyango</td>\n      <td>0.0</td>\n      <td>1900.0</td>\n      <td>900.0</td>\n      <td>0.0</td>\n      <td>0.0</td>\n      <td>0.0</td>\n      <td>200.0</td>\n      <td>0.0</td>\n      <td>0.0</td>\n      <td>3000.0</td>\n    </tr>\n    <tr>\n      <th>1</th>\n      <td>6597</td>\n      <td>2020-10-14</td>\n      <td>Grade4</td>\n      <td>252</td>\n      <td>Meths Rino Nyagol</td>\n      <td>0.0</td>\n      <td>2000.0</td>\n      <td>0.0</td>\n      <td>0.0</td>\n      <td>600.0</td>\n      <td>100.0</td>\n      <td>200.0</td>\n      <td>100.0</td>\n      <td>0.0</td>\n      <td>3000.0</td>\n    </tr>\n    <tr>\n      <th>3</th>\n      <td>6596</td>\n      <td>2020-10-14</td>\n      <td>Grade4</td>\n      <td>226</td>\n      <td>Katheryn Fejenia Wanyama</td>\n      <td>0.0</td>\n      <td>3000.0</td>\n      <td>3300.0</td>\n      <td>700.0</td>\n      <td>1800.0</td>\n      <td>100.0</td>\n      <td>200.0</td>\n      <td>100.0</td>\n      <td>0.0</td>\n      <td>9200.0</td>\n    </tr>\n    <tr>\n      <th>4</th>\n      <td>6600</td>\n      <td>2020-10-19</td>\n      <td>Grade4</td>\n      <td>113</td>\n      <td>Shantel Whitney Otieno</td>\n      <td>0.0</td>\n      <td>1650.0</td>\n      <td>0.0</td>\n      <td>0.0</td>\n      <td>0.0</td>\n      <td>0.0</td>\n      <td>0.0</td>\n      <td>0.0</td>\n      <td>0.0</td>\n      <td>1650.0</td>\n    </tr>\n    <tr>\n      <th>5</th>\n      <td>6602</td>\n      <td>2020-10-19</td>\n      <td>Grade4</td>\n      <td>282</td>\n      <td>Kerry Dalmas Otieno</td>\n      <td>0.0</td>\n      <td>1700.0</td>\n      <td>0.0</td>\n      <td>0.0</td>\n      <td>0.0</td>\n      <td>0.0</td>\n      <td>0.0</td>\n      <td>0.0</td>\n      <td>0.0</td>\n      <td>1700.0</td>\n    </tr>\n    <tr>\n      <th>...</th>\n      <td>...</td>\n      <td>...</td>\n      <td>...</td>\n      <td>...</td>\n      <td>...</td>\n      <td>...</td>\n      <td>...</td>\n      <td>...</td>\n      <td>...</td>\n      <td>...</td>\n      <td>...</td>\n      <td>...</td>\n      <td>...</td>\n      <td>...</td>\n      <td>...</td>\n    </tr>\n    <tr>\n      <th>1164</th>\n      <td>7820</td>\n      <td>2021-05-26</td>\n      <td>Grade1</td>\n      <td>211</td>\n      <td>Dalmus Ojwang Odhiambo</td>\n      <td>0.0</td>\n      <td>1000.0</td>\n      <td>0.0</td>\n      <td>0.0</td>\n      <td>0.0</td>\n      <td>0.0</td>\n      <td>0.0</td>\n      <td>0.0</td>\n      <td>0.0</td>\n      <td>1000.0</td>\n    </tr>\n    <tr>\n      <th>1165</th>\n      <td>7821</td>\n      <td>2021-05-27</td>\n      <td>Grade3</td>\n      <td>287</td>\n      <td>Gabriel Ebeneza</td>\n      <td>0.0</td>\n      <td>3700.0</td>\n      <td>3300.0</td>\n      <td>0.0</td>\n      <td>1800.0</td>\n      <td>200.0</td>\n      <td>200.0</td>\n      <td>100.0</td>\n      <td>0.0</td>\n      <td>9300.0</td>\n    </tr>\n    <tr>\n      <th>1166</th>\n      <td>7822</td>\n      <td>2021-05-28</td>\n      <td>Grade2</td>\n      <td>255</td>\n      <td>Byron John Onyango</td>\n      <td>0.0</td>\n      <td>400.0</td>\n      <td>0.0</td>\n      <td>0.0</td>\n      <td>600.0</td>\n      <td>200.0</td>\n      <td>200.0</td>\n      <td>100.0</td>\n      <td>0.0</td>\n      <td>1500.0</td>\n    </tr>\n    <tr>\n      <th>1167</th>\n      <td>7823</td>\n      <td>2021-05-28</td>\n      <td>PP1</td>\n      <td>285</td>\n      <td>Sharlet Kimberly Odede</td>\n      <td>0.0</td>\n      <td>800.0</td>\n      <td>0.0</td>\n      <td>0.0</td>\n      <td>0.0</td>\n      <td>0.0</td>\n      <td>0.0</td>\n      <td>0.0</td>\n      <td>0.0</td>\n      <td>800.0</td>\n    </tr>\n    <tr>\n      <th>1168</th>\n      <td>7824</td>\n      <td>2021-05-28</td>\n      <td>PP2</td>\n      <td>126</td>\n      <td>Ronney Odhiambo Okore</td>\n      <td>0.0</td>\n      <td>1000.0</td>\n      <td>0.0</td>\n      <td>0.0</td>\n      <td>600.0</td>\n      <td>200.0</td>\n      <td>200.0</td>\n      <td>100.0</td>\n      <td>0.0</td>\n      <td>2100.0</td>\n    </tr>\n  </tbody>\n</table>\n<p>1164 rows × 15 columns</p>\n</div>",
      "text/plain": "     receiptno         dop   grade  adm                 name_stud  admission  \\\n0         6598  2020-10-19  Grade4   54     Reinhard Levi Onyango        0.0   \n1         6597  2020-10-14  Grade4  252         Meths Rino Nyagol        0.0   \n3         6596  2020-10-14  Grade4  226  Katheryn Fejenia Wanyama        0.0   \n4         6600  2020-10-19  Grade4  113    Shantel Whitney Otieno        0.0   \n5         6602  2020-10-19  Grade4  282       Kerry Dalmas Otieno        0.0   \n...        ...         ...     ...  ...                       ...        ...   \n1164      7820  2021-05-26  Grade1  211    Dalmus Ojwang Odhiambo        0.0   \n1165      7821  2021-05-27  Grade3  287           Gabriel Ebeneza        0.0   \n1166      7822  2021-05-28  Grade2  255        Byron John Onyango        0.0   \n1167      7823  2021-05-28     PP1  285    Sharlet Kimberly Odede        0.0   \n1168      7824  2021-05-28     PP2  126     Ronney Odhiambo Okore        0.0   \n\n      tuition  transport  uniform   lunch  exams  booklvy  activity  othelvy  \\\n0      1900.0      900.0      0.0     0.0    0.0    200.0       0.0      0.0   \n1      2000.0        0.0      0.0   600.0  100.0    200.0     100.0      0.0   \n3      3000.0     3300.0    700.0  1800.0  100.0    200.0     100.0      0.0   \n4      1650.0        0.0      0.0     0.0    0.0      0.0       0.0      0.0   \n5      1700.0        0.0      0.0     0.0    0.0      0.0       0.0      0.0   \n...       ...        ...      ...     ...    ...      ...       ...      ...   \n1164   1000.0        0.0      0.0     0.0    0.0      0.0       0.0      0.0   \n1165   3700.0     3300.0      0.0  1800.0  200.0    200.0     100.0      0.0   \n1166    400.0        0.0      0.0   600.0  200.0    200.0     100.0      0.0   \n1167    800.0        0.0      0.0     0.0    0.0      0.0       0.0      0.0   \n1168   1000.0        0.0      0.0   600.0  200.0    200.0     100.0      0.0   \n\n      total_paid  \n0         3000.0  \n1         3000.0  \n3         9200.0  \n4         1650.0  \n5         1700.0  \n...          ...  \n1164      1000.0  \n1165      9300.0  \n1166      1500.0  \n1167       800.0  \n1168      2100.0  \n\n[1164 rows x 15 columns]"
     },
     "execution_count": 20,
     "metadata": {},
     "output_type": "execute_result"
    }
   ],
   "source": [
    "fees_df[fees_df.enrolstatus=='In_Session'][['receiptno', 'dop', 'grade', 'adm', 'name_stud',\r\n",
    "            'admission', 'tuition', 'transport', 'uniform', 'lunch',\r\n",
    "            'exams', 'booklvy', 'activity', 'othelvy', 'total_paid']]  "
   ]
  },
  {
   "cell_type": "code",
   "execution_count": null,
   "metadata": {},
   "outputs": [],
   "source": [
    "(['ADM', 'name',  'Mother', 'Father', 'Guadian', 'DOB', 'sex',\r\n",
    "        'PHONE1', 'PHONE2', 'PHONE3', 'DOA']"
   ]
  }
 ],
 "metadata": {
  "kernelspec": {
   "display_name": "Python 3.9.2 64-bit",
   "name": "python392jvsc74a57bd022dd9a7bee8e238efa5e8db43f1503fdfb7fa74c59d139fde990eca32ca837d0"
  },
  "language_info": {
   "codemirror_mode": {
    "name": "ipython",
    "version": 3
   },
   "file_extension": ".py",
   "mimetype": "text/x-python",
   "name": "python",
   "nbconvert_exporter": "python",
   "pygments_lexer": "ipython3",
   "version": "3.9.2"
  }
 },
 "nbformat": 4,
 "nbformat_minor": 4
}